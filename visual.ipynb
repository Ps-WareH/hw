{
 "cells": [
  {
   "cell_type": "code",
   "execution_count": 19,
   "metadata": {},
   "outputs": [],
   "source": [
    "from PIL import Image\n",
    "import numpy as np\n",
    "from skimage import io\n",
    "from torch.utils.data import DataLoader, Dataset\n",
    "from torchvision import transforms\n",
    "from PIL import Image\n",
    "\n",
    "import matplotlib.pyplot as plt\n",
    "import numpy as np\n",
    "import torch\n",
    "import torch.nn as nn\n",
    "import os\n",
    "from __future__ import print_function, division\n",
    "import os\n",
    "from PIL import Image\n",
    "import torch\n",
    "import torch.utils.data\n",
    "\n",
    "from skimage import io\n",
    "\n",
    "import numpy as np\n",
    "# 打开图像文件\n",
    "image_path = \"tinySet/img/000000_10 copy.png\" # 替换为你的图片文件路径\n",
    "image_path2 = \"tinySet/mask/000000_10 copy.png\"\n",
    "\n"
   ]
  },
  {
   "cell_type": "code",
   "execution_count": 27,
   "metadata": {},
   "outputs": [
    {
     "name": "stdout",
     "output_type": "stream",
     "text": [
      "(375, 1242, 3)\n",
      "0\n",
      "255\n",
      "(375, 1242)\n",
      "4\n",
      "28\n",
      "uint8\n"
     ]
    }
   ],
   "source": [
    "img = io.imread(image_path)\n",
    "img2= io.imread(image_path2)\n",
    "print(img.shape)#0-255\n",
    "print(np.min(img))\n",
    "print(np.max(img))\n",
    "print(img2.shape)\n",
    "print(np.min(img2))\n",
    "print(np.max(img2))\n",
    "print(img2.dtype)"
   ]
  },
  {
   "cell_type": "code",
   "execution_count": 29,
   "metadata": {},
   "outputs": [
    {
     "name": "stdout",
     "output_type": "stream",
     "text": [
      "发现的类别标签：{0, 4, 7, 8, 9, 11, 12, 13, 17, 19, 20, 21, 22, 23, 24, 25, 26, 27, 28, 31, 32, 33}\n",
      "类别数量：22\n"
     ]
    }
   ],
   "source": [
    "\n",
    "def count_classes_in_masks(mask_dir):\n",
    "    unique_classes = set()\n",
    "\n",
    "    for mask_file in os.listdir(mask_dir):\n",
    "        if(mask_file==\".DS_Store\"):\n",
    "            continue\n",
    "        mask_path = os.path.join(mask_dir, mask_file)\n",
    "        mask = io.imread(mask_path)  # 读取掩膜为numpy数组\n",
    "        unique_values = np.unique(mask)  # 找到掩膜中的所有唯一值\n",
    "        unique_classes.update(unique_values)  # 更新类别集合\n",
    "\n",
    "    print(f\"发现的类别标签：{unique_classes}\")\n",
    "    print(f\"类别数量：{len(unique_classes)}\")\n",
    "    return len(unique_classes)\n",
    "\n",
    "# 使用函数统计类别数\n",
    "\n",
    "num_classes = count_classes_in_masks(\"tinySet/mask\")\n"
   ]
  }
 ],
 "metadata": {
  "kernelspec": {
   "display_name": "python_env",
   "language": "python",
   "name": "python3"
  },
  "language_info": {
   "codemirror_mode": {
    "name": "ipython",
    "version": 3
   },
   "file_extension": ".py",
   "mimetype": "text/x-python",
   "name": "python",
   "nbconvert_exporter": "python",
   "pygments_lexer": "ipython3",
   "version": "3.11.5"
  }
 },
 "nbformat": 4,
 "nbformat_minor": 2
}
