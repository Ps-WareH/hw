{
 "cells": [
  {
   "cell_type": "code",
   "execution_count": 19,
   "metadata": {},
   "outputs": [],
   "source": [
    "from PIL import Image\n",
    "import numpy as np\n",
    "from skimage import io\n",
    "from torch.utils.data import DataLoader, Dataset\n",
    "from torchvision import transforms\n",
    "from PIL import Image\n",
    "\n",
    "import matplotlib.pyplot as plt\n",
    "import numpy as np\n",
    "import torch\n",
    "import torch.nn as nn\n",
    "import os\n",
    "from __future__ import print_function, division\n",
    "import os\n",
    "from PIL import Image\n",
    "import torch\n",
    "import torch.utils.data\n",
    "\n",
    "from skimage import io\n",
    "\n",
    "import numpy as np\n",
    "# 打开图像文件\n",
    "image_path = \"tinySet/img/000000_10 copy.png\" # 替换为你的图片文件路径\n",
    "image_path2 = \"tinySet/mask/000000_10 copy.png\"\n",
    "\n"
   ]
  },
  {
   "cell_type": "code",
   "execution_count": 24,
   "metadata": {},
   "outputs": [
    {
     "name": "stdout",
     "output_type": "stream",
     "text": [
      "(375, 1242, 3)\n",
      "0\n",
      "255\n",
      "(375, 1242)\n",
      "4\n",
      "28\n",
      "uint8\n",
      "14\n"
     ]
    }
   ],
   "source": [
    "img = io.imread(image_path)\n",
    "img2= io.imread(image_path2)\n",
    "print(img.shape)#0-255\n",
    "print(np.min(img))\n",
    "print(np.max(img))\n",
    "print(img2.shape)\n",
    "print(np.min(img2))\n",
    "print(np.max(img2))\n",
    "print(img2.dtype)\n",
    "unique_values, counts = np.unique(img2, return_counts=True)\n",
    "print(len(counts))"
   ]
  },
  {
   "cell_type": "code",
   "execution_count": 12,
   "metadata": {},
   "outputs": [],
   "source": [
    "plt.imsave(\"tinySet/trail.png\", img2, cmap='gray')"
   ]
  },
  {
   "cell_type": "code",
   "execution_count": 13,
   "metadata": {},
   "outputs": [
    {
     "name": "stdout",
     "output_type": "stream",
     "text": [
      "[[[181 181 181 255]\n",
      "  [181 181 181 255]\n",
      "  [181 181 181 255]\n",
      "  ...\n",
      "  [ 73  73  73 255]\n",
      "  [ 73  73  73 255]\n",
      "  [ 73  73  73 255]]\n",
      "\n",
      " [[181 181 181 255]\n",
      "  [181 181 181 255]\n",
      "  [181 181 181 255]\n",
      "  ...\n",
      "  [ 73  73  73 255]\n",
      "  [ 73  73  73 255]\n",
      "  [ 73  73  73 255]]\n",
      "\n",
      " [[181 181 181 255]\n",
      "  [181 181 181 255]\n",
      "  [181 181 181 255]\n",
      "  ...\n",
      "  [ 73  73  73 255]\n",
      "  [ 73  73  73 255]\n",
      "  [ 73  73  73 255]]\n",
      "\n",
      " ...\n",
      "\n",
      " [[ 31  31  31 255]\n",
      "  [ 31  31  31 255]\n",
      "  [ 31  31  31 255]\n",
      "  ...\n",
      "  [235 235 235 255]\n",
      "  [235 235 235 255]\n",
      "  [235 235 235 255]]\n",
      "\n",
      " [[ 31  31  31 255]\n",
      "  [ 31  31  31 255]\n",
      "  [ 31  31  31 255]\n",
      "  ...\n",
      "  [235 235 235 255]\n",
      "  [235 235 235 255]\n",
      "  [235 235 235 255]]\n",
      "\n",
      " [[ 31  31  31 255]\n",
      "  [ 31  31  31 255]\n",
      "  [ 31  31  31 255]\n",
      "  ...\n",
      "  [235 235 235 255]\n",
      "  [235 235 235 255]\n",
      "  [235 235 235 255]]]\n"
     ]
    }
   ],
   "source": [
    "img3= io.imread(\"tinySet/trail.png\")\n",
    "print(img3)"
   ]
  }
 ],
 "metadata": {
  "kernelspec": {
   "display_name": "python_env",
   "language": "python",
   "name": "python3"
  },
  "language_info": {
   "codemirror_mode": {
    "name": "ipython",
    "version": 3
   },
   "file_extension": ".py",
   "mimetype": "text/x-python",
   "name": "python",
   "nbconvert_exporter": "python",
   "pygments_lexer": "ipython3",
   "version": "3.11.5"
  }
 },
 "nbformat": 4,
 "nbformat_minor": 2
}
